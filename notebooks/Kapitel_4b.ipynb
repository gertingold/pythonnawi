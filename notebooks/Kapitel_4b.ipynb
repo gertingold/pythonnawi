{
 "cells": [
  {
   "cell_type": "markdown",
   "metadata": {},
   "source": [
    "## 4.2 Erstellung von Grafiken mit PyX"
   ]
  },
  {
   "cell_type": "code",
   "execution_count": null,
   "metadata": {
    "collapsed": false
   },
   "outputs": [],
   "source": [
    "import pyx\n",
    "pyx.__version__"
   ]
  },
  {
   "cell_type": "code",
   "execution_count": null,
   "metadata": {
    "collapsed": false
   },
   "outputs": [],
   "source": [
    "from pyx import *"
   ]
  },
  {
   "cell_type": "markdown",
   "metadata": {},
   "source": [
    "#### Pfade und ihre Darstellung"
   ]
  },
  {
   "cell_type": "code",
   "execution_count": null,
   "metadata": {
    "collapsed": false
   },
   "outputs": [],
   "source": [
    "c = canvas.canvas()\n",
    "c.stroke(path.circle(0, 0, 1))\n",
    "c"
   ]
  },
  {
   "cell_type": "code",
   "execution_count": null,
   "metadata": {
    "collapsed": false
   },
   "outputs": [],
   "source": [
    "c.stroke(path.circle(2.2, 0, 1),\n",
    "         [style.linestyle.dashed, style.linewidth.THIck])\n",
    "c"
   ]
  },
  {
   "cell_type": "code",
   "execution_count": null,
   "metadata": {
    "collapsed": false
   },
   "outputs": [],
   "source": [
    "c.stroke(path.circle(4.4, 0, 1), [color.rgb.red])\n",
    "c"
   ]
  },
  {
   "cell_type": "code",
   "execution_count": null,
   "metadata": {
    "collapsed": false
   },
   "outputs": [],
   "source": [
    "c.stroke(path.circle(6.6, 0, 1),\n",
    "         [color.hsb(0.11, 1, 1), style.linewidth.THICK,\n",
    "          deco.filled([color.grey(0.7)])])\n",
    "c"
   ]
  },
  {
   "cell_type": "code",
   "execution_count": null,
   "metadata": {
    "collapsed": false
   },
   "outputs": [],
   "source": [
    "c.fill(path.circle(8.8, 0, 1), [color.rgb(1, 0.5, 0.5),\n",
    "        deco.stroked([style.linewidth.THICK, color.rgb(0.5, 0.5, 1)])])\n",
    "c"
   ]
  },
  {
   "cell_type": "code",
   "execution_count": null,
   "metadata": {
    "collapsed": false
   },
   "outputs": [],
   "source": [
    "c = canvas.canvas()\n",
    "c.fill(path.rect(-1, -0.5, 2, 1), [color.cmyk.Orange, deco.stroked([color.cmyk.PineGreen,\n",
    "                                                                    style.linewidth.THick])])\n",
    "c.stroke(path.line(-2, 0, 2.5, 0), [deco.earrow.large])\n",
    "c.stroke(path.line(0, 2.5, 0, -2), [deco.barrow.large])\n",
    "c"
   ]
  },
  {
   "cell_type": "markdown",
   "metadata": {},
   "source": [
    "#### Zusammengesetzte Pfade"
   ]
  },
  {
   "cell_type": "code",
   "execution_count": null,
   "metadata": {
    "collapsed": false
   },
   "outputs": [],
   "source": [
    "p = path.path(path.moveto(0, 0),\n",
    "              path.lineto(2, 0),\n",
    "              path.lineto(2, 2),\n",
    "              path.lineto(0, 2),\n",
    "              path.lineto(0, 0))\n",
    "unit.set(wscale=40)\n",
    "c = canvas.canvas()\n",
    "c.stroke(p)\n",
    "c"
   ]
  },
  {
   "cell_type": "code",
   "execution_count": null,
   "metadata": {
    "collapsed": false
   },
   "outputs": [],
   "source": [
    "p = path.path(path.moveto(0, 0),\n",
    "              path.lineto(2, 0),\n",
    "              path.lineto(2, 2),\n",
    "              path.lineto(0, 2),\n",
    "              path.closepath())\n",
    "c = canvas.canvas()\n",
    "c.stroke(p)\n",
    "c"
   ]
  },
  {
   "cell_type": "code",
   "execution_count": null,
   "metadata": {
    "collapsed": false
   },
   "outputs": [],
   "source": [
    "unit.set(wscale=1)"
   ]
  },
  {
   "cell_type": "markdown",
   "metadata": {},
   "source": [
    "#### Relative Schritte"
   ]
  },
  {
   "cell_type": "code",
   "execution_count": null,
   "metadata": {
    "collapsed": false
   },
   "outputs": [],
   "source": [
    "from numpy import random\n",
    "from math import pi, cos, sin\n",
    "\n",
    "directions = 2*pi*random.random(1000)\n",
    "pathelems = [path.rlineto(0.1*cos(dir), 0.1*sin(dir)) for dir in directions]\n",
    "p = path.path(path.moveto(0, 0), *pathelems)\n",
    "\n",
    "c = canvas.canvas()\n",
    "c.stroke(p)\n",
    "c"
   ]
  },
  {
   "cell_type": "markdown",
   "metadata": {},
   "source": [
    "#### Bögen"
   ]
  },
  {
   "cell_type": "code",
   "execution_count": null,
   "metadata": {
    "collapsed": false
   },
   "outputs": [],
   "source": [
    "p = path.path(path.moveto(-1, -1), path.lineto(1, -1), path.arc(1, 0, 1, 270, 90),\n",
    "              path.lineto(-1, 1), path.arc(-1, 0, 1, 90, 270), path.closepath())\n",
    "c = canvas.canvas()\n",
    "c.stroke(p, [deco.filled([color.rgb(1, 0.5, 0.5)])])\n",
    "c"
   ]
  },
  {
   "cell_type": "markdown",
   "metadata": {},
   "source": [
    "#### Transformationen"
   ]
  },
  {
   "cell_type": "code",
   "execution_count": null,
   "metadata": {
    "collapsed": false
   },
   "outputs": [],
   "source": [
    "p = path.circle(0, 0, 1)\n",
    "ncircs = 5\n",
    "c = canvas.canvas()\n",
    "for n in range(ncircs):\n",
    "    c.stroke(p, [trafo.scale(n+1, 1/(n+1)), color.hsb(1, 1, n/(ncircs-1))])\n",
    "c"
   ]
  },
  {
   "cell_type": "code",
   "execution_count": null,
   "metadata": {
    "collapsed": false
   },
   "outputs": [],
   "source": [
    "p = path.rect(-2, -2, 4, 4)\n",
    "nrects = 8\n",
    "c = canvas.canvas()\n",
    "for n in range(nrects):\n",
    "    c.stroke(p, [trafo.rotate(90*n/nrects), color.hsb(n/nrects, 1, 1)])\n",
    "c"
   ]
  },
  {
   "cell_type": "code",
   "execution_count": null,
   "metadata": {
    "collapsed": false
   },
   "outputs": [],
   "source": [
    "for n in range(nrects):\n",
    "    c.stroke(p, [trafo.translate(2, 2).rotated(90*n/nrects).translated(8, -2), color.hsb(n/nrects, 1, 1)])\n",
    "c"
   ]
  },
  {
   "cell_type": "code",
   "execution_count": null,
   "metadata": {
    "collapsed": false
   },
   "outputs": [],
   "source": [
    "nstar = 7\n",
    "alpha = 360/nstar\n",
    "p = path.line(1, 0, 2*cos(pi*alpha/360), 2*sin(pi*alpha/360))\n",
    "c = canvas.canvas()\n",
    "for n in range(nstar):\n",
    "    c.stroke(p.transformed(trafo.rotate(alpha*n)))\n",
    "    c.stroke(p.transformed(trafo.mirror(alpha/2).rotated(alpha*n)))\n",
    "c"
   ]
  },
  {
   "cell_type": "markdown",
   "metadata": {},
   "source": [
    "#### Schneiden von Pfaden"
   ]
  },
  {
   "cell_type": "code",
   "execution_count": null,
   "metadata": {
    "collapsed": false
   },
   "outputs": [],
   "source": [
    "c = canvas.canvas()\n",
    "p1 = path.circle(0, 0, 1)\n",
    "p2 = path.rect(-3, -0.5, 6, 1)\n",
    "c.stroke(p1)\n",
    "c.stroke(p2)\n",
    "c"
   ]
  },
  {
   "cell_type": "code",
   "execution_count": null,
   "metadata": {
    "collapsed": false
   },
   "outputs": [],
   "source": [
    "intersect_circle, intersect_rect = p1.intersect(p2)\n",
    "circle_subpaths = p1.split(intersect_circle)\n",
    "rect_subpaths = p2.split(intersect_rect)\n",
    "p = circle_subpaths[0] << rect_subpaths[1] << circle_subpaths[2] << rect_subpaths[3]\n",
    "c.fill(p, [color.rgb.red])\n",
    "c"
   ]
  },
  {
   "cell_type": "markdown",
   "metadata": {},
   "source": [
    "#### Tangente und Normale"
   ]
  },
  {
   "cell_type": "code",
   "execution_count": null,
   "metadata": {
    "collapsed": false
   },
   "outputs": [],
   "source": [
    "x = (0, 3, 6, 6)\n",
    "y = (0, 3, 3, 0)\n",
    "p = path.curve(x[0], y[0], x[1], y[1], x[2], y[2], x[3], y[3])\n",
    "c = canvas.canvas()\n",
    "c.stroke(p)\n",
    "for xc, yc in zip(x, y):\n",
    "    c.fill(path.circle(xc, yc, 0.1), [color.rgb.blue])\n",
    "c.stroke(path.line(x[0], y[0], x[1], y[1]), [color.rgb.blue])\n",
    "c.stroke(path.line(x[2], y[2], x[3], y[3]), [color.rgb.blue])\n",
    "c"
   ]
  },
  {
   "cell_type": "code",
   "execution_count": null,
   "metadata": {
    "collapsed": false
   },
   "outputs": [],
   "source": [
    "c = canvas.canvas()\n",
    "c.stroke(p)\n",
    "paramhalf = p.arclentoparam(0.5*p.arclen())\n",
    "x, y = p.at(paramhalf)\n",
    "mycolor = color.rgb(0.8, 0, 0)\n",
    "c.fill(path.circle(x, y, 0.1), [mycolor])\n",
    "c.stroke(p.tangent(paramhalf, length=2), [deco.earrow, mycolor])\n",
    "c.stroke(p.tangent(paramhalf, length=2), [deco.earrow, mycolor,\n",
    "                trafo.translate(-x, -y).rotated(90).translated(x, y)])\n",
    "c"
   ]
  },
  {
   "cell_type": "markdown",
   "metadata": {},
   "source": [
    "#### Clipping"
   ]
  },
  {
   "cell_type": "code",
   "execution_count": null,
   "metadata": {
    "collapsed": false
   },
   "outputs": [],
   "source": [
    "c = canvas.canvas()\n",
    "for nx in range(10):\n",
    "    for ny in range(10):\n",
    "        c.fill(path.rect(nx, ny, 1, 1), [color.hsb(nx/9, 1, ny/9)])\n",
    "c"
   ]
  },
  {
   "cell_type": "code",
   "execution_count": null,
   "metadata": {
    "collapsed": false
   },
   "outputs": [],
   "source": [
    "c = canvas.canvas([canvas.clip(path.circle(4, 7, 2))])\n",
    "for nx in range(10):\n",
    "    for ny in range(10):\n",
    "        c.fill(path.rect(nx, ny, 1, 1), [color.hsb(nx/9, 1, ny/9)])\n",
    "c"
   ]
  },
  {
   "cell_type": "markdown",
   "metadata": {},
   "source": [
    "#### Text"
   ]
  },
  {
   "cell_type": "code",
   "execution_count": null,
   "metadata": {
    "collapsed": false
   },
   "outputs": [],
   "source": [
    "c = canvas.canvas()\n",
    "mytext = 'Augsburg'\n",
    "mycolor = color.grey(0.7)\n",
    "c.stroke(path.line(-1, 0, 1, 0), [mycolor])\n",
    "c.stroke(path.line(0, -1, 0, 1), [mycolor])\n",
    "c.text(0, 0, mytext, [text.size.huge])\n",
    "c"
   ]
  },
  {
   "cell_type": "code",
   "execution_count": null,
   "metadata": {
    "collapsed": false
   },
   "outputs": [],
   "source": [
    "c = canvas.canvas()\n",
    "mytext = 'Augsburg'\n",
    "mycolor = color.grey(0.7)\n",
    "for nx in range(3):\n",
    "    c.stroke(path.line(2*nx, 0, 2*nx, 6), [mycolor])\n",
    "for ny in range(3):\n",
    "    c.stroke(path.line(-1.5, 2*ny+1, 5.5, 2*ny+1), [mycolor])\n",
    "for nx, xpos in enumerate((text.halign.right, text.halign.center, text.halign.left)):\n",
    "    for ny, ypos in enumerate((text.valign.top, text.valign.middle, text.valign.bottom)):\n",
    "        c.text(2*nx, 2*ny+1, mytext, [xpos, ypos, text.size.huge])\n",
    "c"
   ]
  },
  {
   "cell_type": "code",
   "execution_count": null,
   "metadata": {
    "collapsed": false
   },
   "outputs": [],
   "source": [
    "c = canvas.canvas()\n",
    "for n in range(9):\n",
    "    c.text(0, 0, mytext, [text.valign.middle, trafo.translate(0.3, 0).rotated(40*n)])\n",
    "c"
   ]
  },
  {
   "cell_type": "markdown",
   "metadata": {},
   "source": [
    "#### TeX und LaTeX"
   ]
  },
  {
   "cell_type": "code",
   "execution_count": null,
   "metadata": {
    "collapsed": false
   },
   "outputs": [],
   "source": [
    "text.set(text.TexRunner)\n",
    "c = canvas.canvas()\n",
    "c.text(0, 0, '$x = {1\\over2}$')\n",
    "c"
   ]
  },
  {
   "cell_type": "code",
   "execution_count": null,
   "metadata": {
    "collapsed": false
   },
   "outputs": [],
   "source": [
    "text.set(text.LatexRunner)\n",
    "c = canvas.canvas()\n",
    "c.text(0, 0, r'$x = \\frac{1}{2}$')\n",
    "c"
   ]
  },
  {
   "cell_type": "code",
   "execution_count": null,
   "metadata": {
    "collapsed": false
   },
   "outputs": [],
   "source": [
    "c = canvas.canvas()\n",
    "c.text(0, 0, r'$\\displaystyle m\\ddot{\\vec r} = -\\gamma\\frac{Mm}{r^3}\\vec r$', [text.size(2)])\n",
    "c"
   ]
  },
  {
   "cell_type": "markdown",
   "metadata": {},
   "source": [
    "#### Längenskalierungen"
   ]
  },
  {
   "cell_type": "code",
   "execution_count": null,
   "metadata": {
    "collapsed": false
   },
   "outputs": [],
   "source": [
    "def testfigure():\n",
    "    c = canvas.canvas()\n",
    "    c.stroke(path.path(path.moveto(2, 0), path.lineto(0, 0), path.lineto(0, 2)),\n",
    "             [deco.barrow, deco.earrow])\n",
    "    c.fill(path.circle(1, 1, 0.1), [color.rgb.red])\n",
    "    c.text(2, 0.2, '$x$', [text.halign.right])\n",
    "    c.text(0.2, 2, '$y$', [text.valign.top])\n",
    "    return c"
   ]
  },
  {
   "cell_type": "code",
   "execution_count": null,
   "metadata": {
    "collapsed": false
   },
   "outputs": [],
   "source": [
    "unit.set(uscale=1, vscale=1, wscale=1, xscale=1)\n",
    "testfigure()"
   ]
  },
  {
   "cell_type": "code",
   "execution_count": null,
   "metadata": {
    "collapsed": false
   },
   "outputs": [],
   "source": [
    "unit.set(uscale=2, vscale=1, wscale=1, xscale=1)\n",
    "testfigure()"
   ]
  },
  {
   "cell_type": "code",
   "execution_count": null,
   "metadata": {
    "collapsed": false
   },
   "outputs": [],
   "source": [
    "unit.set(uscale=1, vscale=2, wscale=1, xscale=1)\n",
    "testfigure()"
   ]
  },
  {
   "cell_type": "code",
   "execution_count": null,
   "metadata": {
    "collapsed": false
   },
   "outputs": [],
   "source": [
    "unit.set(uscale=1, vscale=1, wscale=2, xscale=1)\n",
    "testfigure()"
   ]
  },
  {
   "cell_type": "code",
   "execution_count": null,
   "metadata": {
    "collapsed": false
   },
   "outputs": [],
   "source": [
    "unit.set(uscale=1, vscale=1, wscale=1, xscale=2)\n",
    "testfigure()"
   ]
  },
  {
   "cell_type": "code",
   "execution_count": null,
   "metadata": {
    "collapsed": false
   },
   "outputs": [],
   "source": [
    "unit.set(xscale=1)"
   ]
  },
  {
   "cell_type": "markdown",
   "metadata": {},
   "source": [
    "#### Deformer"
   ]
  },
  {
   "cell_type": "code",
   "execution_count": null,
   "metadata": {
    "collapsed": false
   },
   "outputs": [],
   "source": [
    "box = path.rect(0, 0, 3, 2)\n",
    "c = canvas.canvas()\n",
    "c.stroke(box)\n",
    "c.stroke(box, [deformer.smoothed(radius=0.5), trafo.translate(3.5, 0)])\n",
    "c.stroke(box, [deformer.smoothed(radius=1), trafo.translate(7, 0)])\n",
    "c"
   ]
  },
  {
   "cell_type": "code",
   "execution_count": null,
   "metadata": {
    "collapsed": false
   },
   "outputs": [],
   "source": [
    "c = canvas.canvas()\n",
    "c.stroke(path.line(0, 0, 5, 0), [deformer.cycloid(radius=0.3, halfloops=21,\n",
    "                                 skipfirst=0.3*unit.t_cm, skiplast=0.6*unit.t_cm),\n",
    "                                 deformer.smoothed(radius=0.2)])\n",
    "c"
   ]
  },
  {
   "cell_type": "code",
   "execution_count": null,
   "metadata": {
    "collapsed": false
   },
   "outputs": [],
   "source": [
    "mytext = text.text(0, 0, r'\\textbf{\\sffamily Hallo}', [color.grey(1)])\n",
    "textbox = mytext.bbox().enlarged(0.3*unit.t_cm).path()\n",
    "c = canvas.canvas()\n",
    "c.stroke(textbox, [deco.filled([color.rgb.red]), deformer.smoothed(radius=0.5)])\n",
    "c.insert(mytext)\n",
    "c"
   ]
  },
  {
   "cell_type": "markdown",
   "metadata": {},
   "source": [
    "#### Abspeichern von Grafiken"
   ]
  },
  {
   "cell_type": "code",
   "execution_count": null,
   "metadata": {
    "collapsed": false
   },
   "outputs": [],
   "source": [
    "c.writePDFfile('hallo.pdf')\n",
    "c.writeEPSfile('hallo.eps')\n",
    "c.writeGSfile('hallo.png', resolution=300)"
   ]
  },
  {
   "cell_type": "raw",
   "metadata": {},
   "source": [
    "Wir entfernen jetzt wieder die soeben angelegten Dateien."
   ]
  },
  {
   "cell_type": "code",
   "execution_count": null,
   "metadata": {
    "collapsed": false
   },
   "outputs": [],
   "source": [
    "!rm -f hallo.pdf hallo.eps hallo.png"
   ]
  },
  {
   "cell_type": "markdown",
   "metadata": {},
   "source": [
    "#### Einfache Graphen"
   ]
  },
  {
   "cell_type": "code",
   "execution_count": null,
   "metadata": {
    "collapsed": false
   },
   "outputs": [],
   "source": [
    "g = graph.graphxy(width=8)\n",
    "data = [(0, 0), (1, 0.5), (2, 3), (3, 4), (4, -0.7)]\n",
    "g.plot(graph.data.points(data, x=1, y=2))\n",
    "g"
   ]
  },
  {
   "cell_type": "code",
   "execution_count": null,
   "metadata": {
    "collapsed": false
   },
   "outputs": [],
   "source": [
    "g = graph.graphxy(width=8)\n",
    "data = [(0, 0), (1, 0.5), (2, 3), (3, 4), (4, -0.7)]\n",
    "myline = graph.style.line([color.rgb.blue])\n",
    "mysymbol = graph.style.symbol(symbol=graph.style.symbol.triangle,\n",
    "                              symbolattrs=[deco.filled([color.grey(1)]),\n",
    "                                           deco.stroked([color.rgb.blue])])\n",
    "g.plot(graph.data.points(data, x=1, y=2), [myline, mysymbol])\n",
    "g"
   ]
  },
  {
   "cell_type": "code",
   "execution_count": null,
   "metadata": {
    "collapsed": false
   },
   "outputs": [],
   "source": [
    "g = graph.graphxy(width=8,\n",
    "                  x=graph.axis.lin(title='$x$'),\n",
    "                  y=graph.axis.lin(min=-1, max=4.5, title='$y$'))\n",
    "data = [(0, 0), (1, 0.5), (2, 3), (3, 4), (4, -0.7)]\n",
    "myline = graph.style.line([color.rgb.blue])\n",
    "mysymbol = graph.style.symbol(symbol=graph.style.symbol.triangle,\n",
    "                              symbolattrs=[deco.filled([color.grey(1)]),\n",
    "                                           deco.stroked([color.rgb.blue])])\n",
    "g.plot(graph.data.points(data, x=1, y=2), [myline, mysymbol])\n",
    "g"
   ]
  },
  {
   "cell_type": "markdown",
   "metadata": {},
   "source": [
    "#### Funktionsgraphen"
   ]
  },
  {
   "cell_type": "code",
   "execution_count": null,
   "metadata": {
    "collapsed": false
   },
   "outputs": [],
   "source": [
    "g = graph.graphxy(width=8,\n",
    "                  x=graph.axis.lin(min=0, max=3, title='$x$'),\n",
    "                  y=graph.axis.lin(min=0, max=3, title='$y$'))\n",
    "colors = [color.hsb(2*n/9, 1, 0.8) for n in range(0, 4)]\n",
    "mylines = graph.style.line(lineattrs=[attr.changelist(colors),\n",
    "                                      attr.changelist([style.linestyle.solid])])\n",
    "mysymbols = graph.style.symbol(symbol=graph.style.symbol.changesquare,\n",
    "                               symbolattrs=[attr.changelist(colors),\n",
    "                                            deco.filled([color.grey(1)])])\n",
    "g.plot([graph.data.function('y(x)=x**{}'.format(exponent/2), points=10)\n",
    "                                                 for exponent in range(1, 5)],\n",
    "       [mylines, mysymbols])\n",
    "g"
   ]
  },
  {
   "cell_type": "markdown",
   "metadata": {},
   "source": [
    "#### Logarithmische Achsen und Legende"
   ]
  },
  {
   "cell_type": "code",
   "execution_count": null,
   "metadata": {
    "collapsed": false
   },
   "outputs": [],
   "source": [
    "def keytitle(dblexponent):\n",
    "    if dblexponent == 2: return '$x$'\n",
    "    if dblexponent % 2:\n",
    "        return '$x^{{{}/2}}$'.format(dblexponent)\n",
    "    else:\n",
    "        return '$x^{}$'.format(dblexponent//2)\n",
    "    \n",
    "g = graph.graphxy(width=8,\n",
    "                  x=graph.axis.log(min=0.1, max=3, title='\\Large $x$'),\n",
    "                  y=graph.axis.log(min=0.1, max=3, title='\\Large $y$'),\n",
    "                  key=graph.key.key(pos=\"br\", dist=0.1,\n",
    "                                    keyattrs=[deco.filled([color.grey(0.9)])]))\n",
    "g.plot([graph.data.function('y(x)=x**{}'.format(exponent/2),\n",
    "                            points=10, title=keytitle(exponent))\n",
    "                                                 for exponent in range(1, 5)],\n",
    "       [mylines, mysymbols])\n",
    "g"
   ]
  },
  {
   "cell_type": "markdown",
   "metadata": {},
   "source": [
    "#### Gitterlinien"
   ]
  },
  {
   "cell_type": "code",
   "execution_count": null,
   "metadata": {
    "collapsed": false
   },
   "outputs": [],
   "source": [
    "mygridattrs = [style.linestyle.dotted]\n",
    "g = graph.graphxy(width=8,\n",
    "                  x=graph.axis.log(min=0.1, max=3, title='\\Large $x$',\n",
    "                                   painter=graph.axis.painter.regular(gridattrs=mygridattrs)),\n",
    "                  y=graph.axis.log(min=0.1, max=3, title='\\Large $y$',\n",
    "                                   painter=graph.axis.painter.regular(gridattrs=mygridattrs)),\n",
    "                  key=graph.key.key(pos=\"br\", dist=0.1,\n",
    "                                    keyattrs=[deco.filled([color.grey(1)]), deco.stroked()]))\n",
    "g.plot([graph.data.function('y(x)=x**{}'.format(exponent/2),\n",
    "                            points=10, title=keytitle(exponent))\n",
    "                                                 for exponent in range(1, 5)],\n",
    "       [mylines, mysymbols])\n",
    "g"
   ]
  },
  {
   "cell_type": "markdown",
   "metadata": {},
   "source": [
    "#### Achseneinteilung"
   ]
  },
  {
   "cell_type": "code",
   "execution_count": null,
   "metadata": {
    "collapsed": false
   },
   "outputs": [],
   "source": [
    "mypainter = graph.axis.painter.regular(innerticklength=None,\n",
    "                                       outerticklength=graph.axis.painter.ticklength.normal)\n",
    "g = graph.graphxy(width=8,\n",
    "                  x=graph.axis.linear(min=0, max=2*pi, divisor=pi,\n",
    "                                      texter=graph.axis.texter.rational(suffix=r\"\\pi\")),\n",
    "                  y=graph.axis.linear(parter=graph.axis.parter.linear(tickdists=[1,0.2]),\n",
    "                                      painter=mypainter))\n",
    "g.plot(graph.data.function('y(x)=sin(x)'))\n",
    "g"
   ]
  },
  {
   "cell_type": "markdown",
   "metadata": {},
   "source": [
    "#### Zweidimensionale Farbdarstellung"
   ]
  },
  {
   "cell_type": "code",
   "execution_count": null,
   "metadata": {
    "collapsed": false
   },
   "outputs": [],
   "source": [
    "import numpy as np\n",
    "def f(x, y):\n",
    "    return cos(x**2+y**2)*sin(2*y**2)\n",
    "\n",
    "xmin = -2\n",
    "xmax = 2\n",
    "ymin = -2\n",
    "ymax = 2\n",
    "npts = 100\n",
    "data = [(x, y, f(x, y)) for x in np.linspace(xmin, xmax, npts)\n",
    "                        for y in np.linspace(xmin, xmax, npts)]\n",
    "g = graph.graphxy(height=8, width=8,\n",
    "                  x=graph.axis.linear(title=r'$x$'),\n",
    "                  y=graph.axis.linear(title=r'$y$'))\n",
    "g.plot(graph.data.points(data, x=1, y=2, color=3, title='$f(x,y)$'),\n",
    "       [graph.style.density(gradient=color.rgbgradient.Rainbow)])\n",
    "g"
   ]
  },
  {
   "cell_type": "markdown",
   "metadata": {},
   "source": [
    "#### Zusätzliche Konturlinien"
   ]
  },
  {
   "cell_type": "code",
   "execution_count": null,
   "metadata": {
    "collapsed": false
   },
   "outputs": [],
   "source": [
    "from skimage.measure import find_contours\n",
    "\n",
    "data = [(x, y, f(x, y)) for x in np.linspace(xmin, xmax, npts)\n",
    "                        for y in np.linspace(ymin, ymax, npts)]\n",
    "g = graph.graphxy(height=8, width=8,\n",
    "                  x=graph.axis.linear(title=r'$x$'),\n",
    "                  y=graph.axis.linear(title=r'$y$'))\n",
    "g.plot(graph.data.points(data, x=1, y=2, color=3, title='$f(x,y)$'),\n",
    "       [graph.style.density(gradient=color.rgbgradient.Rainbow)])\n",
    "\n",
    "for level in (-0.5, 0.5):\n",
    "    contours = find_contours(np.array([d[2] for d in data]).reshape(npts, npts), level)\n",
    "    for c in contours:\n",
    "        c_rescaled = [(xmin+x*(xmax-xmin)/(npts-1),\n",
    "                       ymin+y*(ymax-ymin)/(npts-1)) for x, y in c]\n",
    "        g.plot(graph.data.points(c_rescaled, x=1, y=2), [graph.style.line()])\n",
    "g"
   ]
  },
  {
   "cell_type": "markdown",
   "metadata": {},
   "source": [
    "#### Unterabbildungen"
   ]
  },
  {
   "cell_type": "code",
   "execution_count": null,
   "metadata": {
    "collapsed": false
   },
   "outputs": [],
   "source": [
    "c = canvas.canvas()\n",
    "g1 = c.insert(graph.graphxy(width=8, height=3,\n",
    "                            x=graph.axis.lin(title='\\large $t$'),\n",
    "                            y=graph.axis.lin(title='\\large $x$')))\n",
    "g1.plot(graph.data.function(\"y(x)=x*exp(-x)\", min=0, max=10),\n",
    "        [graph.style.line(lineattrs=[color.rgb.blue])])\n",
    "g1.text(g1.xpos-1, g1.height, '\\Large (b)', [text.halign.right, text.valign.top])\n",
    "g2 = c.insert(graph.graphxy(width=8, height=3,\n",
    "                            ypos=g1.height+0.5,\n",
    "                            x=graph.axis.linkedaxis(g1.axes[\"x\"]),\n",
    "                            y=graph.axis.lin(title='x')))\n",
    "g2.plot(graph.data.function(\"y(x)=exp(-0.2*x)*sin(3*x)\"),\n",
    "                [graph.style.line(lineattrs=[color.rgb.blue])])\n",
    "g2.text(g2.xpos-1, g2.ypos+g2.height, '\\Large (a)', [text.halign.right, text.valign.top])\n",
    "c"
   ]
  },
  {
   "cell_type": "markdown",
   "metadata": {},
   "source": [
    "#### Dreidimensionale Darstellungen"
   ]
  },
  {
   "cell_type": "code",
   "execution_count": null,
   "metadata": {
    "collapsed": false
   },
   "outputs": [],
   "source": [
    "data = [(x, y, x**2-y**2) for x in np.linspace(-1, 1, 50) for y in np.linspace(-1, 1, 50)]\n",
    "g = graph.graphxyz(size=4)\n",
    "g.plot(graph.data.points(data, x=1, y=2, z=3), [graph.style.surface()])\n",
    "g"
   ]
  },
  {
   "cell_type": "code",
   "execution_count": null,
   "metadata": {
    "collapsed": false
   },
   "outputs": [],
   "source": [
    "data = [(x, y, x**2-y**2, x**2+y**2) for x in np.linspace(-1, 1, 50) for y in np.linspace(-1, 1, 50)]\n",
    "g = graph.graphxyz(size=4,\n",
    "                   x=graph.axis.lin(title='$x$'),\n",
    "                   y=graph.axis.lin(title='$y$'),\n",
    "                   z=graph.axis.lin(title='$x^2-y^2$'))\n",
    "g.plot(graph.data.points(data, x=1, y=2, z=3, color=4, title='$x^2+y^2$'),\n",
    "       [graph.style.surface(gradient=color.rgbgradient(color.gradient.Rainbow),\n",
    "                            gridcolor=None,\n",
    "                            backcolor=None)])\n",
    "g"
   ]
  },
  {
   "cell_type": "code",
   "execution_count": null,
   "metadata": {
    "collapsed": false
   },
   "outputs": [],
   "source": [
    "g = graph.graphxyz(size=4,\n",
    "                   x=graph.axis.lin(title='$x$'),\n",
    "                   y=graph.axis.lin(title='$y$'),\n",
    "                   z=graph.axis.lin(title='$x^2-y^2$'),\n",
    "                   projector=graph.graphxyz.parallel(-65, 10))\n",
    "g.plot(graph.data.points(data, x=1, y=2, z=3, color=4, title='$x^2+y^2$'),\n",
    "       [graph.style.surface(gradient=color.rgbgradient(color.gradient.Rainbow),\n",
    "                            gridcolor=None,\n",
    "                            backcolor=None)])\n",
    "g"
   ]
  },
  {
   "cell_type": "markdown",
   "metadata": {},
   "source": [
    "#### Benutzung von Projektoren"
   ]
  },
  {
   "cell_type": "code",
   "execution_count": null,
   "metadata": {
    "collapsed": false
   },
   "outputs": [],
   "source": [
    "import itertools\n",
    "projector = graph.graphxyz.central(10, -20, 30).point\n",
    "a = 2\n",
    "cube = list(itertools.product((-a, a), repeat=3))\n",
    "c = canvas.canvas()\n",
    "for edge in ((0, 1), (1, 3), (3, 2), (2, 0)):\n",
    "    x1, y1 = projector(*cube[edge[0]])\n",
    "    x2, y2 = projector(*cube[edge[1]])\n",
    "    c.stroke(path.line(x1, y1, x2, y2), [style.linewidth.Thick, color.rgb.red])\n",
    "    x1, y1 = projector(*cube[edge[0]+4])\n",
    "    x2, y2 = projector(*cube[edge[1]+4])\n",
    "    c.stroke(path.line(x1, y1, x2, y2), [style.linewidth.Thick, color.rgb.green])\n",
    "    x1, y1 = projector(*cube[edge[0]])\n",
    "    x2, y2 = projector(*cube[edge[0]+4])\n",
    "    c.stroke(path.line(x1, y1, x2, y2), [style.linewidth.Thick, color.rgb.blue])\n",
    "for vertex in cube:\n",
    "    x, y = projector(*vertex)\n",
    "    c.fill(path.circle(x, y, 0.2))\n",
    "c"
   ]
  }
 ],
 "metadata": {
  "anaconda-cloud": {},
  "kernelspec": {
   "display_name": "Python [default]",
   "language": "python",
   "name": "python3"
  },
  "language_info": {
   "codemirror_mode": {
    "name": "ipython",
    "version": 3
   },
   "file_extension": ".py",
   "mimetype": "text/x-python",
   "name": "python",
   "nbconvert_exporter": "python",
   "pygments_lexer": "ipython3",
   "version": "3.5.2"
  }
 },
 "nbformat": 4,
 "nbformat_minor": 0
}
